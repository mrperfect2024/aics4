{
 "cells": [
  {
   "cell_type": "code",
   "execution_count": 1,
   "metadata": {
    "executionInfo": {
     "elapsed": 7,
     "status": "ok",
     "timestamp": 1710479623876,
     "user": {
      "displayName": "Aditya Garje",
      "userId": "15780559537715057577"
     },
     "user_tz": -330
    },
    "id": "mJJq3AfHC_-6"
   },
   "outputs": [],
   "source": [
    "#Assignment 4: Perform feature engineering operations on raw data\n",
    "import numpy as np\n",
    "import pandas as pd"
   ]
  },
  {
   "cell_type": "code",
   "execution_count": 2,
   "metadata": {
    "executionInfo": {
     "elapsed": 420,
     "status": "ok",
     "timestamp": 1710479630876,
     "user": {
      "displayName": "Aditya Garje",
      "userId": "15780559537715057577"
     },
     "user_tz": -330
    },
    "id": "q73h-feoDKUB"
   },
   "outputs": [],
   "source": [
    "# Load the Titanic dataset\n",
    "titanic_data = pd.read_csv(\"train_dataset_4.csv\")"
   ]
  },
  {
   "cell_type": "code",
   "execution_count": 3,
   "metadata": {
    "colab": {
     "base_uri": "https://localhost:8080/"
    },
    "executionInfo": {
     "elapsed": 398,
     "status": "ok",
     "timestamp": 1710479643403,
     "user": {
      "displayName": "Aditya Garje",
      "userId": "15780559537715057577"
     },
     "user_tz": -330
    },
    "id": "50VM6QvuFII-",
    "outputId": "f7ff042f-aeb3-4468-cb5c-7d5fff955abd"
   },
   "outputs": [
    {
     "name": "stdout",
     "output_type": "stream",
     "text": [
      "   PassengerId  Survived  Pclass  \\\n",
      "0            1         0       3   \n",
      "1            2         1       1   \n",
      "2            3         1       3   \n",
      "3            4         1       1   \n",
      "4            5         0       3   \n",
      "\n",
      "                                                Name     Sex   Age  SibSp  \\\n",
      "0                            Braund, Mr. Owen Harris    male  22.0      1   \n",
      "1  Cumings, Mrs. John Bradley (Florence Briggs Th...  female  38.0      1   \n",
      "2                             Heikkinen, Miss. Laina  female  26.0      0   \n",
      "3       Futrelle, Mrs. Jacques Heath (Lily May Peel)  female  35.0      1   \n",
      "4                           Allen, Mr. William Henry    male  35.0      0   \n",
      "\n",
      "   Parch            Ticket     Fare Cabin Embarked  \n",
      "0      0         A/5 21171   7.2500   NaN        S  \n",
      "1      0          PC 17599  71.2833   C85        C  \n",
      "2      0  STON/O2. 3101282   7.9250   NaN        S  \n",
      "3      0            113803  53.1000  C123        S  \n",
      "4      0            373450   8.0500   NaN        S  \n"
     ]
    }
   ],
   "source": [
    "# Display the first few rows of the dataset\n",
    "print(titanic_data.head())"
   ]
  },
  {
   "cell_type": "code",
   "execution_count": 4,
   "metadata": {
    "executionInfo": {
     "elapsed": 2,
     "status": "ok",
     "timestamp": 1710479643804,
     "user": {
      "displayName": "Aditya Garje",
      "userId": "15780559537715057577"
     },
     "user_tz": -330
    },
    "id": "qfCVwOMIFRcx"
   },
   "outputs": [],
   "source": [
    "\n",
    "# Perform feature engineering\n",
    "\n",
    "# 1. Extract titles from the 'Name' column\n",
    "titanic_data['Title'] = titanic_data['Name'].apply(lambda x: x.split(',')[1].split('.')[0].strip())"
   ]
  },
  {
   "cell_type": "code",
   "execution_count": 5,
   "metadata": {
    "executionInfo": {
     "elapsed": 2,
     "status": "ok",
     "timestamp": 1710479643804,
     "user": {
      "displayName": "Aditya Garje",
      "userId": "15780559537715057577"
     },
     "user_tz": -330
    },
    "id": "428iJnV1FU8S"
   },
   "outputs": [],
   "source": [
    "# 2. Create a new feature 'FamilySize' by combining 'SibSp' and 'Parch' columns\n",
    "titanic_data['FamilySize'] = titanic_data['SibSp'] + titanic_data['Parch'] + 1\n",
    "\n"
   ]
  },
  {
   "cell_type": "code",
   "execution_count": 6,
   "metadata": {
    "executionInfo": {
     "elapsed": 3,
     "status": "ok",
     "timestamp": 1710479643805,
     "user": {
      "displayName": "Aditya Garje",
      "userId": "15780559537715057577"
     },
     "user_tz": -330
    },
    "id": "i0fta42uFd9z"
   },
   "outputs": [],
   "source": [
    "# 3. Create a new feature 'IsAlone' indicating whether a passenger is alone or not\n",
    "titanic_data['IsAlone'] = 0\n",
    "titanic_data.loc[titanic_data['FamilySize'] == 1, 'IsAlone'] = 1\n"
   ]
  },
  {
   "cell_type": "code",
   "execution_count": 7,
   "metadata": {
    "executionInfo": {
     "elapsed": 3,
     "status": "ok",
     "timestamp": 1710479643805,
     "user": {
      "displayName": "Aditya Garje",
      "userId": "15780559537715057577"
     },
     "user_tz": -330
    },
    "id": "NVy3HwRlFfYR"
   },
   "outputs": [],
   "source": [
    "# 4. Convert 'Sex' feature into numerical\n",
    "titanic_data['Sex'] = titanic_data['Sex'].map({'male': 0, 'female': 1})\n"
   ]
  },
  {
   "cell_type": "code",
   "execution_count": 8,
   "metadata": {
    "executionInfo": {
     "elapsed": 569,
     "status": "ok",
     "timestamp": 1710479644372,
     "user": {
      "displayName": "Aditya Garje",
      "userId": "15780559537715057577"
     },
     "user_tz": -330
    },
    "id": "CpbGGJjsFhxv"
   },
   "outputs": [],
   "source": [
    "\n",
    "# 5. Convert 'Embarked' feature into numerical and fill missing values with the most common one\n",
    "titanic_data['Embarked'] = titanic_data['Embarked'].fillna(titanic_data['Embarked'].mode()[0])\n",
    "titanic_data['Embarked'] = titanic_data['Embarked'].map({'S': 0, 'C': 1, 'Q': 2})\n"
   ]
  },
  {
   "cell_type": "code",
   "execution_count": 9,
   "metadata": {
    "executionInfo": {
     "elapsed": 570,
     "status": "ok",
     "timestamp": 1710479644373,
     "user": {
      "displayName": "Aditya Garje",
      "userId": "15780559537715057577"
     },
     "user_tz": -330
    },
    "id": "zfG6fY4nFjxE"
   },
   "outputs": [],
   "source": [
    "# 6. Fill missing values in 'Age' column with median age\n",
    "titanic_data['Age'] = titanic_data['Age'].fillna(titanic_data['Age'].median())\n"
   ]
  },
  {
   "cell_type": "code",
   "execution_count": 10,
   "metadata": {
    "colab": {
     "base_uri": "https://localhost:8080/"
    },
    "executionInfo": {
     "elapsed": 3,
     "status": "ok",
     "timestamp": 1710479644373,
     "user": {
      "displayName": "Aditya Garje",
      "userId": "15780559537715057577"
     },
     "user_tz": -330
    },
    "id": "Ss1U017TFnn5",
    "outputId": "decd5107-f73e-4bb5-bc98-fff999f98d9a"
   },
   "outputs": [
    {
     "name": "stdout",
     "output_type": "stream",
     "text": [
      "   PassengerId  Survived  Pclass  \\\n",
      "0            1         0       3   \n",
      "1            2         1       1   \n",
      "2            3         1       3   \n",
      "3            4         1       1   \n",
      "4            5         0       3   \n",
      "\n",
      "                                                Name  Sex   Age  SibSp  Parch  \\\n",
      "0                            Braund, Mr. Owen Harris    0  22.0      1      0   \n",
      "1  Cumings, Mrs. John Bradley (Florence Briggs Th...    1  38.0      1      0   \n",
      "2                             Heikkinen, Miss. Laina    1  26.0      0      0   \n",
      "3       Futrelle, Mrs. Jacques Heath (Lily May Peel)    1  35.0      1      0   \n",
      "4                           Allen, Mr. William Henry    0  35.0      0      0   \n",
      "\n",
      "             Ticket     Fare Cabin  Embarked Title  FamilySize  IsAlone  \n",
      "0         A/5 21171   7.2500   NaN         0    Mr           2        0  \n",
      "1          PC 17599  71.2833   C85         1   Mrs           2        0  \n",
      "2  STON/O2. 3101282   7.9250   NaN         0  Miss           1        1  \n",
      "3            113803  53.1000  C123         0   Mrs           2        0  \n",
      "4            373450   8.0500   NaN         0    Mr           1        1  \n"
     ]
    }
   ],
   "source": [
    "# Display the modified dataset\n",
    "print(titanic_data.head())"
   ]
  },
  {
   "cell_type": "code",
   "execution_count": null,
   "metadata": {},
   "outputs": [],
   "source": []
  }
 ],
 "metadata": {
  "colab": {
   "provenance": []
  },
  "kernelspec": {
   "display_name": "Python 3 (ipykernel)",
   "language": "python",
   "name": "python3"
  },
  "language_info": {
   "codemirror_mode": {
    "name": "ipython",
    "version": 3
   },
   "file_extension": ".py",
   "mimetype": "text/x-python",
   "name": "python",
   "nbconvert_exporter": "python",
   "pygments_lexer": "ipython3",
   "version": "3.11.5"
  }
 },
 "nbformat": 4,
 "nbformat_minor": 1
}
